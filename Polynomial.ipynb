{
  "nbformat": 4,
  "nbformat_minor": 0,
  "metadata": {
    "colab": {
      "name": "Polynomial.ipynb",
      "provenance": []
    },
    "kernelspec": {
      "name": "python3",
      "display_name": "Python 3"
    },
    "language_info": {
      "name": "python"
    }
  },
  "cells": [
    {
      "cell_type": "code",
      "metadata": {
        "id": "RrQfC8Foknjd",
        "colab": {
          "base_uri": "https://localhost:8080/",
          "height": 348
        },
        "outputId": "b68bb739-34a6-44a0-ac86-d3cd41f37ea3"
      },
      "source": [
        "from math import exp as e\n",
        "from math import cos as cos\n",
        "import math\n",
        "from sympy import *\n",
        "from math import *\n",
        "from __future__ import division\n",
        "from sympy import *\n",
        "import matplotlib.pyplot as plt\n",
        "import numpy as np\n",
        "from scipy.interpolate import lagrange\n",
        "\n",
        "fx = '(exp(x) + 2**-x+ 2*cos(x) - 6)'\n",
        "f= lambda x: eval(fx)\n",
        "interval_start= input(\"enter starting point: \")\n",
        "interval_end= input(\"enter ending point: \")\n",
        "n= int(input(\"enter n: \"))\n",
        "x=[]\n",
        "y_values=[]\n",
        "difference= (int(interval_end) - int(interval_start))/int(n)\n",
        "for i in range(n+1):\n",
        "  x.append(int(interval_start) + i*difference)\n",
        "for i in x:\n",
        "  y_values.append(f(i))\n",
        "\n",
        "poly = lagrange(x, y_values)\n",
        "lang_vals=poly(x)\n",
        "E=y_values-lang_vals\n",
        "plt.plot(x,lang_vals, 'bo-', label='Langrange')\n",
        "plt.plot(x,y_values,'gs-',  label='F(x)')\n",
        "plt.plot(x,E,'ro-',  label='error')\n",
        "plt.title(\"Langrange Plot\")\n",
        "plt.xlabel(\"X values\")\n",
        "plt.ylabel(\"F(x)\")\n",
        "plt.show()"
      ],
      "execution_count": 14,
      "outputs": [
        {
          "name": "stdout",
          "output_type": "stream",
          "text": [
            "enter starting point: -2\n",
            "enter ending point: 2\n",
            "enter n: 100\n"
          ]
        },
        {
          "output_type": "display_data",
          "data": {
            "image/png": "[encoded data removed]",
            "text/plain": [
              "<Figure size 432x288 with 1 Axes>"
            ]
          },
          "metadata": {
            "needs_background": "light"
          }
        }
      ]
    },
    {
      "cell_type": "code",
      "metadata": {
        "id": "gIa7naurIep2"
      },
      "source": [
        ""
      ],
      "execution_count": null,
      "outputs": []
    }
  ]
}